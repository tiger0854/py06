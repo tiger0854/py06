{
  "nbformat": 4,
  "nbformat_minor": 0,
  "metadata": {
    "colab": {
      "name": "ch6_exercises_py06.ipynb",
      "provenance": [],
      "collapsed_sections": [],
      "include_colab_link": true
    },
    "kernelspec": {
      "name": "python3",
      "display_name": "Python 3"
    }
  },
  "cells": [
    {
      "cell_type": "markdown",
      "metadata": {
        "id": "view-in-github",
        "colab_type": "text"
      },
      "source": [
        "<a href=\"https://colab.research.google.com/github/tiger0854/py06/blob/master/ch6_exercises_py06.ipynb\" target=\"_parent\"><img src=\"https://colab.research.google.com/assets/colab-badge.svg\" alt=\"Open In Colab\"/></a>"
      ]
    },
    {
      "cell_type": "markdown",
      "metadata": {
        "id": "ovY5jkD5dpxE",
        "colab_type": "text"
      },
      "source": [
        "## ch6_exercises.ipynb"
      ]
    },
    {
      "cell_type": "markdown",
      "metadata": {
        "id": "SZw6UnxQWYBe",
        "colab_type": "text"
      },
      "source": [
        "## Q1. 내가 프로그램을 만들 수 있을까?\n",
        "> 구구단을 출력하는 프로그램을 만들어 보세요.(사용자 정의함수 def 와 return 을 사용)\n",
        "\n"
      ]
    },
    {
      "cell_type": "code",
      "metadata": {
        "id": "rUNNaqJPdg7B",
        "colab_type": "code",
        "outputId": "14459838-5f2a-4b0b-e515-b320488014a4",
        "colab": {
          "base_uri": "https://localhost:8080/",
          "height": 52
        }
      },
      "source": [
        "# [Q1] Code-1\n",
        "n = int(input(\"몇 단을 출력 할것인가? :\"))\n",
        "\n",
        "def GuGu0(n):\n",
        "    result = []\n",
        "    result.append(n * 1)\n",
        "    result.append(n * 2)\n",
        "    result.append(n * 3)\n",
        "    result.append(n * 4)\n",
        "    result.append(n * 5)\n",
        "    result.append(n * 6)\n",
        "    result.append(n * 7)\n",
        "    result.append(n * 8)\n",
        "    result.append(n * 9)\n",
        "    return result\n",
        "print(GuGu0(n))"
      ],
      "execution_count": 0,
      "outputs": [
        {
          "output_type": "stream",
          "text": [
            "몇 단을 출력 할것인가? :2\n",
            "[2, 4, 6, 8, 10, 12, 14, 16, 18]\n"
          ],
          "name": "stdout"
        }
      ]
    },
    {
      "cell_type": "code",
      "metadata": {
        "id": "0e892kucCR5m",
        "colab_type": "code",
        "outputId": "d6016691-1a63-4f40-b4e4-d39a8d90a05f",
        "colab": {
          "base_uri": "https://localhost:8080/",
          "height": 52
        }
      },
      "source": [
        "# [Q1] Code-2\n",
        "n = int(input(\"몇 단을 출력 할것인가? :\"))\n",
        "def GuGu(n):\n",
        "    result = []\n",
        "    i = 1\n",
        "    while i < 10:\n",
        "        result.append(n * i)\n",
        "        i = i + 1\n",
        "    return result\n",
        "print(GuGu0(n))"
      ],
      "execution_count": 0,
      "outputs": [
        {
          "output_type": "stream",
          "text": [
            "몇 단을 출력 할것인가? :9\n",
            "[9, 18, 27, 36, 45, 54, 63, 72, 81]\n"
          ],
          "name": "stdout"
        }
      ]
    },
    {
      "cell_type": "code",
      "metadata": {
        "id": "u5WTJm4DGEo9",
        "colab_type": "code",
        "outputId": "5a61ce89-be02-4188-97c4-3a6363ac1679",
        "colab": {
          "base_uri": "https://localhost:8080/",
          "height": 193
        }
      },
      "source": [
        "# [Q1] Code-3 (사용자 정의함수 def와 return 을 사용하지않고 사용자에게 입력받은 구구단 출력)\n",
        "while True:\n",
        " num1 = int(input(\"몇 단을 출력 할것인가? : \"))\n",
        " for i in range(1,10):\n",
        "  print(num1, \"X\", i, \"=\", num1*i)\n",
        " break"
      ],
      "execution_count": 0,
      "outputs": [
        {
          "output_type": "stream",
          "text": [
            "몇 단을 출력 할것인가? : 3\n",
            "3 X 1 = 3\n",
            "3 X 2 = 6\n",
            "3 X 3 = 9\n",
            "3 X 4 = 12\n",
            "3 X 5 = 15\n",
            "3 X 6 = 18\n",
            "3 X 7 = 21\n",
            "3 X 8 = 24\n",
            "3 X 9 = 27\n"
          ],
          "name": "stdout"
        }
      ]
    },
    {
      "cell_type": "markdown",
      "metadata": {
        "colab_type": "text",
        "id": "re2-XrUYXF1m"
      },
      "source": [
        "## Q2. 3과 5의 배수 합하기\n",
        "> 1000 미만의 자연수에서 3의 배수와 5의 배수의 총합을 구하라.\n"
      ]
    },
    {
      "cell_type": "code",
      "metadata": {
        "colab_type": "code",
        "id": "5MBLUZ5WXF1q",
        "outputId": "eb865ca0-7d68-431a-fbdb-65a75f1a5db6",
        "colab": {
          "base_uri": "https://localhost:8080/",
          "height": 34
        }
      },
      "source": [
        "# [Q2] Code-올바른 답안\n",
        "result = 0\n",
        "for n in range(1, 1000):\n",
        "    if n % 3 == 0 or n % 5 == 0:\n",
        "        result += n\n",
        "print(result)  # 233168"
      ],
      "execution_count": 0,
      "outputs": [
        {
          "output_type": "stream",
          "text": [
            "233168\n"
          ],
          "name": "stdout"
        }
      ]
    },
    {
      "cell_type": "code",
      "metadata": {
        "id": "uEBC0judHH-M",
        "colab_type": "code",
        "outputId": "33198995-a843-45ac-ae0e-0c44a6b28cfb",
        "colab": {
          "base_uri": "https://localhost:8080/",
          "height": 34
        }
      },
      "source": [
        "# [Q2] Code-틀린 답안\n",
        "result_w = 0\n",
        "for n in range(1, 1000):\n",
        "    if n % 3 == 0:\n",
        "        result_w += n\n",
        "    if n % 5 == 0:\n",
        "        result_w += n\n",
        "print(result_w)  # 266333"
      ],
      "execution_count": 0,
      "outputs": [
        {
          "output_type": "stream",
          "text": [
            "266333\n"
          ],
          "name": "stdout"
        }
      ]
    },
    {
      "cell_type": "code",
      "metadata": {
        "id": "yEUaPK0GFJAr",
        "colab_type": "code",
        "outputId": "b4228828-8682-4ac8-fd25-59c18b0fc7a5",
        "colab": {
          "base_uri": "https://localhost:8080/",
          "height": 34
        }
      },
      "source": [
        "# [Q2] Code 검산\n",
        "result_3_5 = 0\n",
        "for n in range(1, 1000):\n",
        "    if n % 3 == 0 and n % 5 == 0:\n",
        "        result_3_5 += n\n",
        "\n",
        "print(result_3_5)"
      ],
      "execution_count": 0,
      "outputs": [
        {
          "output_type": "stream",
          "text": [
            "33165\n"
          ],
          "name": "stdout"
        }
      ]
    },
    {
      "cell_type": "code",
      "metadata": {
        "id": "gJ-JT2ZWHfXw",
        "colab_type": "code",
        "outputId": "7de7cc2a-3b45-4c5a-9137-3a00e8387c00",
        "colab": {
          "base_uri": "https://localhost:8080/",
          "height": 34
        }
      },
      "source": [
        "print(result_w - result_3_5) \n",
        "#(result_w - result_3_5) == result \n",
        "#틀린답안에서 and 연산자를 쓴 검산한 답안을 빼면 올바른 답안의 결과가 나온다."
      ],
      "execution_count": 0,
      "outputs": [
        {
          "output_type": "stream",
          "text": [
            "233168\n"
          ],
          "name": "stdout"
        }
      ]
    },
    {
      "cell_type": "markdown",
      "metadata": {
        "colab_type": "text",
        "id": "UZy8lu_BXGnT"
      },
      "source": [
        "## Q3.게시판 페이징하기\n",
        "> A 씨는 게시판 프로그램을 작성하고 있다.\\\n",
        " 그런데 게시물의 총 건수와 한 페이지에 보여 줄 \n",
        " 게시물 수를 입력으로 주었을 때\\\n",
        " 총 페이지 수를 출력하는 프로그램을 만들어보자.\n",
        "\n",
        ">한 페이지에서 보여 줄 게시물 수가 최대 10\n",
        "\n",
        ">총 페이지 수 = (총 건수 / 한 페이지당 보여 줄 건수) + 1\n"
      ]
    },
    {
      "cell_type": "code",
      "metadata": {
        "colab_type": "code",
        "id": "H9T_sXHzXGnW",
        "outputId": "401f5060-451e-4788-aeb1-905ddfb55013",
        "colab": {
          "base_uri": "https://localhost:8080/",
          "height": 70
        }
      },
      "source": [
        "# [Q3] Code-1\n",
        "m = int(input(\"총 게시물 수를 입력하세요 : \"))\n",
        "n = int(input(\"한 페이지당 보여줄 게시물 수를 입력하세요 : \"))\n",
        "\n",
        "def getTotalPage(m, n):\n",
        "    if m % n == 0:\n",
        "        return m // n\n",
        "    else:\n",
        "        return m // n + 1\n",
        "\n",
        "print(\"총 페이지 수는 %d페이지 입니다.\" %getTotalPage(m, n))"
      ],
      "execution_count": 0,
      "outputs": [
        {
          "output_type": "stream",
          "text": [
            "총 게시물 수를 입력하세요 : 120\n",
            "한 페이지당 보여줄 게시물 수를 입력하세요 : 10\n",
            "총 페이지 수는 12페이지 입니다.\n"
          ],
          "name": "stdout"
        }
      ]
    },
    {
      "cell_type": "code",
      "metadata": {
        "id": "VGABasyYMlxx",
        "colab_type": "code",
        "outputId": "961ac5f9-0ca4-4446-ce18-2bee402ee092",
        "colab": {
          "base_uri": "https://localhost:8080/",
          "height": 70
        }
      },
      "source": [
        "# [Q3] Code-2\n",
        "m = int(input(\"총 게시물 수를 입력하세요 : \"))\n",
        "n = int(input(\"한 페이지당 보여줄 게시물 수를 입력하세요 : \"))\n",
        "\n",
        "def getTotalPage(m, n):\n",
        "    if n >10:\n",
        "        return print(\"한 페이지에서 보여 줄 게시물 수는 최대10개입니다\")\n",
        "    elif m % n == 0:\n",
        "        return m // n\n",
        "    else:\n",
        "        return m // n + 1\n",
        "\n",
        "getTotalPage(m, n)"
      ],
      "execution_count": 0,
      "outputs": [
        {
          "output_type": "stream",
          "text": [
            "총 게시물 수를 입력하세요 : 80\n",
            "한 페이지당 보여줄 게시물 수를 입력하세요 : 80\n",
            "한 페이지에서 보여 줄 게시물 수는 최대10개입니다\n"
          ],
          "name": "stdout"
        }
      ]
    },
    {
      "cell_type": "markdown",
      "metadata": {
        "colab_type": "text",
        "id": "fqypxxqTXHY7"
      },
      "source": [
        "## Q4.간단한 메모장 만들기\n",
        ">원하는 메모를 파일에 저장하고 추가 및 조회가\n",
        " 가능한 간단한 메모장을 만들어 보자.\n",
        "\n",
        "* 필요한 기능은? 메모 추가하기, 메모 조회하기\n",
        "* 입력 받는 값은? 메모 내용, 프로그램 실행 옵션\n",
        "* 출력하는 값은? memo.txt"
      ]
    },
    {
      "cell_type": "code",
      "metadata": {
        "colab_type": "code",
        "id": "oQ5UnmayXHY-",
        "outputId": "194f3177-d966-4b34-d1d0-5cf4c2da28df",
        "colab": {
          "base_uri": "https://localhost:8080/",
          "height": 90
        }
      },
      "source": [
        "# [Q4]\n",
        "# 1. 입력으로 받은 옵션과 메모를 출력하는 코드를 작성\n",
        "\n",
        "# ./doit/memo.py\n",
        "import sys\n",
        "option = sys.argv[1]\n",
        "memo = sys.argv[2]\n",
        "print(option)\n",
        "print(memo)\n",
        "\n",
        "\n",
        "# 2. memo.py를 작성했다면 다음 명령을 수행\n",
        "# doit 폴더에서 실행\n",
        "\n",
        "python memo.py -a \"Life is too short\"\n",
        "\n",
        "\n",
        "# 3. 입력으로 받은 메모를 파일에 쓰도록 코드를 변경\n",
        "\n",
        "# ./doit/memo.py\n",
        "import sys\n",
        "option = sys.argv[1]\n",
        "if option == '-a':\n",
        "    memo = sys.argv[2]\n",
        "    f = open('memo.txt', 'a')\n",
        "    f.write(memo)\n",
        "    f.write('\\n')\n",
        "    f.close()\n",
        "\n",
        "\n",
        "\n",
        "# 4. 다음과 같은 명령을 수행하여 메모 저장 확인.\n",
        "# doit 폴더에서 실행\n",
        "\n",
        "python memo.py -a \"Life is too short\"\n",
        "python memo.py -a \"You need python\"\n",
        "type memo.txt\n",
        "\n",
        "\n",
        "# 5. 작성한 메모를 출력\n",
        "# 메모 출력은 다음과 같이 동작\n",
        "# 메모 추가는 –a 옵션을 사용하고 메모 출력은 –v 옵션을 사용\n",
        "\n",
        "python memo.py -v\n",
        "\n",
        "#\n",
        "# 메모 출력을 위해 다음과 같이 코드를 변경\n",
        "#\n",
        "\n",
        "# ./doit/memo.py\n",
        "import sys\n",
        "option = sys.argv[1]\n",
        "if option == '-a':\n",
        "    memo = sys.argv[2]\n",
        "    f = open('memo.txt', 'a')\n",
        "    f.write(memo)\n",
        "    f.write('\\n')\n",
        "    f.close()\n",
        "elif option == '-v':\n",
        "    f = open('memo.txt')\n",
        "    memo = f.read()\n",
        "    f.close()\n",
        "    print(memo)\n"
      ],
      "execution_count": 21,
      "outputs": [
        {
          "output_type": "stream",
          "text": [
            "-f\n",
            "/root/.local/share/jupyter/runtime/kernel-6121674d-c56f-4fb9-884d-a09e62e865b1.json\n"
          ],
          "name": "stdout"
        },
        {
          "output_type": "execute_result",
          "data": {
            "text/plain": [
              "\"\\n# ./doit/memo.py\\nimport sys\\noption = sys.argv[1]\\nif option == '-a':\\n    memo = sys.argv[2]\\n    f = open('memo.txt', 'a')\\n    f.write(memo)\\n    f.write('\\n')\\n    f.close()\\nelif option == '-v':\\n    f = open('memo.txt')\\n    memo = f.read()\\n    f.close()\\n    print(memo)\\n\""
            ]
          },
          "metadata": {
            "tags": []
          },
          "execution_count": 21
        }
      ]
    },
    {
      "cell_type": "markdown",
      "metadata": {
        "colab_type": "text",
        "id": "NKsvciXZXIL-"
      },
      "source": [
        "## Q5. 탭을 4개의 공백으로 바꾸기\n",
        "> 문서 파일을 읽어서 그 문서 파일 안에 있는 탭(tab)을\\\n",
        "공백(space) 4개로 바꾸어 주는 스크립트를 작성\n",
        "\n",
        "- 필요한 기능은? 문서 파일 읽어 들이기, 문자열 변경하기\n",
        "\n",
        "- 입력 받는 값은? 탭을 포함한 문서 파일\n",
        "\n",
        "- 출력하는 값은? 탭이 공백으로 수정된 문서 파일"
      ]
    },
    {
      "cell_type": "code",
      "metadata": {
        "colab_type": "code",
        "id": "5MZQYOVjXIL_",
        "colab": {
          "base_uri": "https://localhost:8080/",
          "height": 55
        },
        "outputId": "e966756c-b95d-4b01-9864-4dbc0d10822a"
      },
      "source": [
        "# [Q5] Code\n",
        "\n",
        "python tabto4.py a.txt b.txt\n",
        "\n",
        "# 1. tabto4.py는 \\doit 디렉터리에 저장\n",
        "\n",
        "# ./doit/tabto4.py\n",
        "import sys\n",
        "src = sys.argv[1]\n",
        "dst = sys.argv[2]\n",
        "print(src)\n",
        "print(dst)\n",
        "\n",
        "#\n",
        "# 2. 입력값이 정상적으로 출력되는지 확인\n",
        "\n",
        "python tabto4.py a.txt b.txt\n",
        "\n",
        "\n",
        "#\n",
        "# 3. 원본 파일(탭을 포함하는 파일)인 a.txt 작성\n",
        "\"\"\"\n",
        "Life    is  too short\n",
        "You need    python\n",
        "\"\"\"\n",
        "\n",
        "#\n",
        "# 4. 탭을 공백 4개로 변환할 수 있도록 코드를 변경\n",
        "\n",
        "# ./doit/tabto4.py\n",
        "import sys\n",
        "src = sys.argv[1]\n",
        "dst = sys.argv[2]\n",
        "f = open(src)\n",
        "tab_content = f.read()\n",
        "f.close()\n",
        "space_content = tab_content.replace(\"\\t\", \" \"*4)\n",
        "print(space_content)\n",
        "\n",
        "\n",
        "#\n",
        "# 5. tabto4.py를 위와 같이 변경한 후 다음과 같은 명령을 수행\n",
        "\n",
        "python tabto4.py a.txt b.txt\n",
        "\n",
        "\n",
        "#\n",
        "# 6. 변경된 내용을 b.txt 파일에 저장\n",
        "\n",
        "# ./doit/tabto4.py\n",
        "import sys\n",
        "src = sys.argv[1]\n",
        "dst = sys.argv[2]\n",
        "f = open(src)\n",
        "tab_content = f.read()\n",
        "f.close()\n",
        "space_content = tab_content.replace(\"\\t\", \" \"*4)\n",
        "f = open(dst, 'w')\n",
        "f.write(space_content)\n",
        "f.close()\n",
        "\n",
        "\n"
      ],
      "execution_count": 18,
      "outputs": [
        {
          "output_type": "execute_result",
          "data": {
            "text/plain": [
              "'\\n# ./doit/tabto4.py\\nimport sys\\nsrc = sys.argv[1]\\ndst = sys.argv[2]\\nf = open(src)\\ntab_content = f.read()\\nf.close()\\nspace_content = tab_content.replace(\"\\t\", \" \"*4)\\nf = open(dst, \\'w\\')\\nf.write(space_content)\\nf.close()\\n'"
            ]
          },
          "metadata": {
            "tags": []
          },
          "execution_count": 18
        }
      ]
    },
    {
      "cell_type": "markdown",
      "metadata": {
        "colab_type": "text",
        "id": "-3KHtOOoXJBV"
      },
      "source": [
        "## Q6.하위 디렉터리 검색하기\n",
        ">  특정 디렉터리부터 시작해서 그 하위 모든 파일 중\\\n",
        " 파이썬 파일(*.py)만 출력해 주는 프로그램을\n",
        " 만들려면 어떻게 해야 할까?"
      ]
    },
    {
      "cell_type": "code",
      "metadata": {
        "colab_type": "code",
        "id": "AjYR0lUaXJBa",
        "colab": {}
      },
      "source": [
        "# [Q6] Code - 1\n",
        "# ./ch06/sub_dir_search.py\n",
        "import os\n",
        "def search(dirname):\n",
        "    try:\n",
        "        filenames = os.listdir(dirname)\n",
        "        for filename in filenames:\n",
        "            full_filename = os.path.join(dirname, filename)\n",
        "            if os.path.isdir(full_filename):\n",
        "                search(full_filename)\n",
        "            else:\n",
        "                ext = os.path.splitext(full_filename)[-1]\n",
        "                if ext == '.py': \n",
        "                    print(full_filename)\n",
        "    except PermissionError:\n",
        "        pass\n",
        "search(\"./\")"
      ],
      "execution_count": 0,
      "outputs": []
    },
    {
      "cell_type": "code",
      "metadata": {
        "id": "1f16_2JvWEK3",
        "colab_type": "code",
        "colab": {}
      },
      "source": [
        "# [Q6] Code - 2 \n",
        "# os.walk 사용\n",
        "# ./ch06/sub_dir_walk.py\n",
        "import os\n",
        "for (path, dir, files) in os.walk(\"./\"):\n",
        "    for filename in files:\n",
        "        ext = os.path.splitext(filename)[-1]\n",
        "        if ext == '.py':\n",
        "            print(\"%s/%s\" % (path, filename))"
      ],
      "execution_count": 0,
      "outputs": []
    },
    {
      "cell_type": "markdown",
      "metadata": {
        "id": "2ljBDShkbqZO",
        "colab_type": "text"
      },
      "source": [
        "## 코딩 연습 결과를 github에 올리기\n",
        "> 완성된 ipython 노트북 파일을 각자의 github에 올리시오.\n",
        "\n",
        "- github 계정 만들기 (계정이 없는 학생)\n",
        "    1. github에 sign up (Google gmail 계정을 이용해서 만드시오.)\n",
        "- github에 노트 올리기\n",
        "    2. github에 각자의 id로 repo를 만드시오. (한번 만들면 계속 재사용)\n",
        "    3. github repo에 연습결과 노트를 올리시오.\n",
        "        - 제출노트: ch3_exercises_id.ipynb\n"
      ]
    },
    {
      "cell_type": "code",
      "metadata": {
        "id": "OnCR-YNCc8B6",
        "colab_type": "code",
        "colab": {}
      },
      "source": [
        ""
      ],
      "execution_count": 0,
      "outputs": []
    }
  ]
}