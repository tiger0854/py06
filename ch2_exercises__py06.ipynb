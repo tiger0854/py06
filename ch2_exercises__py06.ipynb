{
  "nbformat": 4,
  "nbformat_minor": 0,
  "metadata": {
    "colab": {
      "name": "ch2_exercises._py06",
      "provenance": [],
      "collapsed_sections": [],
      "toc_visible": true,
      "include_colab_link": true
    },
    "kernelspec": {
      "name": "python3",
      "display_name": "Python 3"
    }
  },
  "cells": [
    {
      "cell_type": "markdown",
      "metadata": {
        "id": "view-in-github",
        "colab_type": "text"
      },
      "source": [
        "<a href=\"https://colab.research.google.com/github/tiger0854/py06/blob/master/ch2_exercises__py06.ipynb\" target=\"_parent\"><img src=\"https://colab.research.google.com/assets/colab-badge.svg\" alt=\"Open In Colab\"/></a>"
      ]
    },
    {
      "cell_type": "markdown",
      "metadata": {
        "id": "ovY5jkD5dpxE",
        "colab_type": "text"
      },
      "source": [
        "## ch2_exercises.ipynb"
      ]
    },
    {
      "cell_type": "markdown",
      "metadata": {
        "id": "Acbv381gGWoq",
        "colab_type": "text"
      },
      "source": [
        "최예원"
      ]
    },
    {
      "cell_type": "markdown",
      "metadata": {
        "id": "SZw6UnxQWYBe",
        "colab_type": "text"
      },
      "source": [
        "## Q1.\n",
        "> 홍길동 씨의 과목별 점수는 다음과 같다. 홍길동 씨의 평균 점수를 구해 보자.\n",
        "\n",
        "- 과목\t점수\n",
        "- 국어\t80\n",
        "- 영어\t75\n",
        "- 수학\t55"
      ]
    },
    {
      "cell_type": "code",
      "metadata": {
        "id": "rUNNaqJPdg7B",
        "colab_type": "code",
        "outputId": "6396d24a-d1cd-405b-853c-bc968be4fb7e",
        "colab": {
          "base_uri": "https://localhost:8080/",
          "height": 34
        }
      },
      "source": [
        "# [Q1] Code\n",
        "a = 80\n",
        "b = 75\n",
        "c = 55\n",
        "(a+b+c)/3"
      ],
      "execution_count": 0,
      "outputs": [
        {
          "output_type": "execute_result",
          "data": {
            "text/plain": [
              "70.0"
            ]
          },
          "metadata": {
            "tags": []
          },
          "execution_count": 5
        }
      ]
    },
    {
      "cell_type": "markdown",
      "metadata": {
        "colab_type": "text",
        "id": "re2-XrUYXF1m"
      },
      "source": [
        "## Q2.\n",
        "> 자연수 13이 홀수인지 짝수인지 판별할 수 있는 방법에 대해 말해 보자.\n",
        "\n",
        "1. 판별 기준\n",
        "2. 코드\n"
      ]
    },
    {
      "cell_type": "code",
      "metadata": {
        "colab_type": "code",
        "id": "5MBLUZ5WXF1q",
        "outputId": "a823e567-d97b-41bc-a7cf-838a8eb8ea7c",
        "colab": {
          "base_uri": "https://localhost:8080/",
          "height": 34
        }
      },
      "source": [
        "# [Q2] Code\n",
        "# 1. 판별 기준 : %(나머지)연산자를 사용하면 나머지값인 자연수가 홀수일 때는 1을 짝수일 때는 0을 돌려주는 것을 확인할 수 있다.\n",
        "x=13\n",
        "if x % 2 ==1:\n",
        "    print(\"홀수\")\n",
        "else:\n",
        "    print(\"짝수\")"
      ],
      "execution_count": 0,
      "outputs": [
        {
          "output_type": "stream",
          "text": [
            "홀수\n"
          ],
          "name": "stdout"
        }
      ]
    },
    {
      "cell_type": "markdown",
      "metadata": {
        "colab_type": "text",
        "id": "UZy8lu_BXGnT"
      },
      "source": [
        "## Q3.\n",
        "> 홍길동 씨의 주민등록번호는 881120-1068234이다. 홍길동 씨의 주민등록번호를 연월일(YYYYMMDD) 부분과 그 뒤의 숫자 부분으로 나누어 출력해 보자.\n",
        "\n",
        "- 문자열 슬라이싱 기법을 사용해 보자."
      ]
    },
    {
      "cell_type": "code",
      "metadata": {
        "colab_type": "code",
        "id": "H9T_sXHzXGnW",
        "outputId": "b3272db7-c1ee-401b-c8c3-0f80a6e7039d",
        "colab": {
          "base_uri": "https://localhost:8080/",
          "height": 52
        }
      },
      "source": [
        "# [Q3] Code\n",
        "pin = \"881120-1068234\"\n",
        "yyyymmdd = pin[:6]\n",
        "num = pin[7:]\n",
        "print(yyyymmdd)  # 881120 출력\n",
        "print(num)       # 1068234 출력"
      ],
      "execution_count": 0,
      "outputs": [
        {
          "output_type": "stream",
          "text": [
            "881120\n",
            "1068234\n"
          ],
          "name": "stdout"
        }
      ]
    },
    {
      "cell_type": "markdown",
      "metadata": {
        "colab_type": "text",
        "id": "fqypxxqTXHY7"
      },
      "source": [
        "## Q4.\n",
        "> 주민등록번호 뒷자리의 맨 첫 번째 숫자는 성별을 나타낸다. 주민등록번호에서 성별을 나타내는 숫자를 출력해 보자.\n",
        "\n",
        "- pin = \"881120-1068234\"\n",
        "- ※ 문자열 인덱싱 또는 내장함수를 사용해 보자.\n",
        "- 문자열포맷팅을 이용해서 성별을 출력하시오."
      ]
    },
    {
      "cell_type": "code",
      "metadata": {
        "colab_type": "code",
        "id": "oQ5UnmayXHY-",
        "outputId": "b14cf337-6ad3-445a-f89c-565b5b46cc8a",
        "colab": {
          "base_uri": "https://localhost:8080/",
          "height": 34
        }
      },
      "source": [
        "# [Q4] Code\n",
        "pin = \"881120-1068234\"\n",
        "\n",
        "print(pin[7])   # 1이면 남자, 2이면 여자"
      ],
      "execution_count": 0,
      "outputs": [
        {
          "output_type": "stream",
          "text": [
            "1\n"
          ],
          "name": "stdout"
        }
      ]
    },
    {
      "cell_type": "markdown",
      "metadata": {
        "colab_type": "text",
        "id": "NKsvciXZXIL-"
      },
      "source": [
        "## Q5.\n",
        "> 다음과 같은 문자열 a:b:c:d가 있다. 문자열의 replace 함수를 사용하여 a#b#c#d로 바꿔서 출력해 보자.\n",
        "\n",
        "- a = \"a:b:c:d\""
      ]
    },
    {
      "cell_type": "code",
      "metadata": {
        "colab_type": "code",
        "id": "5MZQYOVjXIL_",
        "outputId": "0e6c511e-ca30-47c6-b44b-bec9b8b695b1",
        "colab": {
          "base_uri": "https://localhost:8080/",
          "height": 34
        }
      },
      "source": [
        "# [Q5] Code\n",
        "a = \"a:b:c:d\"\n",
        "b = a.replace(\":\", \"#\")\n",
        "print(b)\n"
      ],
      "execution_count": 0,
      "outputs": [
        {
          "output_type": "stream",
          "text": [
            "a#b#c#d\n"
          ],
          "name": "stdout"
        }
      ]
    },
    {
      "cell_type": "markdown",
      "metadata": {
        "colab_type": "text",
        "id": "-3KHtOOoXJBV"
      },
      "source": [
        "## Q6.\n",
        "> [1, 3, 5, 4, 2] 리스트를 [5, 4, 3, 2, 1]로 만들어 보자.\n",
        "\n",
        "- ※ 리스트의 내장 함수를 사용해 보자."
      ]
    },
    {
      "cell_type": "code",
      "metadata": {
        "colab_type": "code",
        "id": "AjYR0lUaXJBa",
        "outputId": "6ca8168d-df74-4fe8-a170-f3b6a0185f2b",
        "colab": {
          "base_uri": "https://localhost:8080/",
          "height": 34
        }
      },
      "source": [
        "# [Q6] Code\n",
        "a = [1, 3, 5, 4, 2]\n",
        "a.sort( )\n",
        "a.reverse( )\n",
        "print(a)   \n"
      ],
      "execution_count": 0,
      "outputs": [
        {
          "output_type": "stream",
          "text": [
            "[5, 4, 3, 2, 1]\n"
          ],
          "name": "stdout"
        }
      ]
    },
    {
      "cell_type": "markdown",
      "metadata": {
        "colab_type": "text",
        "id": "t4IiVHLeZZiY"
      },
      "source": [
        "## Q7.\n",
        "> ['Life', 'is', 'too', 'short'] 리스트를 Life is too short 문자열로 만들어 출력해 보자.\n",
        "\n",
        "- ※ 문자열의 join 함수를 사용하면 리스트를 문자열로 쉽게 만들 수 있다."
      ]
    },
    {
      "cell_type": "code",
      "metadata": {
        "colab_type": "code",
        "id": "9N_atipGZZii",
        "outputId": "62886db8-e7bf-494e-c2f5-fdc863243bfe",
        "colab": {
          "base_uri": "https://localhost:8080/",
          "height": 34
        }
      },
      "source": [
        "# [Q7] Code\n",
        "a=['Life', 'is', 'too', 'short']\n",
        "result = \" \".join(a)\n",
        "print(result)"
      ],
      "execution_count": 0,
      "outputs": [
        {
          "output_type": "stream",
          "text": [
            "Life is too short\n"
          ],
          "name": "stdout"
        }
      ]
    },
    {
      "cell_type": "markdown",
      "metadata": {
        "colab_type": "text",
        "id": "-lBhb33mZaak"
      },
      "source": [
        "## Q8.\n",
        "> (1,2,3) 튜플에 값 4를 추가하여 (1,2,3,4)를 만들어 출력해 보자.\n",
        "\n",
        "- ※ 더하기(+) 또는 다른 방법들을 사용해 보자."
      ]
    },
    {
      "cell_type": "code",
      "metadata": {
        "colab_type": "code",
        "id": "i4BTj9htZaao",
        "outputId": "48b6b84a-aff1-4524-f6f5-e760cc31c0dd",
        "colab": {
          "base_uri": "https://localhost:8080/",
          "height": 34
        }
      },
      "source": [
        "# [Q8] Code\n",
        "a=(1, 2, 3)\n",
        "b=(4,)\n",
        "print(a+b)\n",
        "\n",
        "\n"
      ],
      "execution_count": 0,
      "outputs": [
        {
          "output_type": "stream",
          "text": [
            "(1, 2, 3, 4)\n"
          ],
          "name": "stdout"
        }
      ]
    },
    {
      "cell_type": "markdown",
      "metadata": {
        "colab_type": "text",
        "id": "RbzxnM_2ZbD7"
      },
      "source": [
        "## Q9.\n",
        "> 다음과 같은 딕셔너리 a가 있다.\n",
        "\n",
        ">> a = dict()  \n",
        ">> a  \n",
        "{}\n",
        "\n",
        "- 다음 중 오류가 발생하는 경우를 고르고, 그 이유를 설명해 보자.\n",
        "\n",
        "1. a['name'] = 'python'\n",
        "2. a[('a',)] = 'python'\n",
        "3. a[[1]] = 'python'\n",
        "4. a[250] = 'python'"
      ]
    },
    {
      "cell_type": "code",
      "metadata": {
        "colab_type": "code",
        "id": "f-5U0rBgZbEB",
        "outputId": "9f2d0736-bc2d-4733-e1fb-e17fff3a73db",
        "colab": {
          "base_uri": "https://localhost:8080/",
          "height": 134
        }
      },
      "source": [
        "# [Q9] Code & explanation\n",
        "\n",
        "a[[1]] = 'python'\n",
        "\n",
        "Traceback (most recent call last):\n",
        "  File \"<stdin>\", line 1, in <module>\n",
        "TypeError: unhashable type: 'list'\n",
        "\n",
        "#오류가 발생하는 이유는 딕셔너리의 키로 변하는(mutable)값을 사용할 수 없기 때문이다.\n",
        "#위 예제에서 키로 사용된[1]은 리스트이므로 변하는 값이다.\n"
      ],
      "execution_count": 0,
      "outputs": [
        {
          "output_type": "error",
          "ename": "SyntaxError",
          "evalue": "ignored",
          "traceback": [
            "\u001b[0;36m  File \u001b[0;32m\"<ipython-input-12-a4c680b311b1>\"\u001b[0;36m, line \u001b[0;32m4\u001b[0m\n\u001b[0;31m    Traceback (most recent call last):\u001b[0m\n\u001b[0m                         ^\u001b[0m\n\u001b[0;31mSyntaxError\u001b[0m\u001b[0;31m:\u001b[0m invalid syntax\n"
          ]
        }
      ]
    },
    {
      "cell_type": "markdown",
      "metadata": {
        "colab_type": "text",
        "id": "9qiSBPM8Zbpj"
      },
      "source": [
        "## Q10.\n",
        "> 딕셔너리 a에서 'B'에 해당되는 값을 추출해 보자.\n",
        ">> a = {'A':90, 'B':80, 'C':70}\n",
        "\n",
        "- ※ 딕셔너리의 pop 함수를 사용해 보자."
      ]
    },
    {
      "cell_type": "code",
      "metadata": {
        "colab_type": "code",
        "id": "Y9swWMWHZbpm",
        "outputId": "95ae1ad7-f403-4009-9790-ee52b6c21c6d",
        "colab": {
          "base_uri": "https://localhost:8080/",
          "height": 52
        }
      },
      "source": [
        "# [Q10] Code\n",
        "a = {'A' :90, 'B':80, 'C':70}\n",
        "result = a.pop('B') \n",
        "print(a)            #{'A': 90, 'C': 70} \n",
        "print(result)       #80\n",
        "\n",
        "#추출 및 삭제를 해야하므로 pop 함수를 이용한다.\n"
      ],
      "execution_count": 0,
      "outputs": [
        {
          "output_type": "stream",
          "text": [
            "{'A': 90, 'C': 70}\n",
            "80\n"
          ],
          "name": "stdout"
        }
      ]
    },
    {
      "cell_type": "markdown",
      "metadata": {
        "colab_type": "text",
        "id": "88KNoXFNZcR7"
      },
      "source": [
        "## Q11.\n",
        "> a 리스트에서 중복 숫자를 제거해 보자.\n",
        ">> a = [1, 1, 1, 2, 2, 3, 3, 3, 4, 4, 5]\n",
        "\n",
        "- ※ 집합 자료형의 요솟값이 중복될 수 없다는 특징을 사용해 보자."
      ]
    },
    {
      "cell_type": "code",
      "metadata": {
        "colab_type": "code",
        "id": "paSvArIWZcSB",
        "outputId": "5d28fd6e-e4b5-400b-e561-3bcdc9999b5d",
        "colab": {
          "base_uri": "https://localhost:8080/",
          "height": 34
        }
      },
      "source": [
        "# [Q11] Code\n",
        "a=[1,2,3,3,3,3,4,5,5,5,5,6]\n",
        "print(set(a))\n",
        "\n",
        "#Set는 집합으로 만드는 것이다. 집합에 동일한 원소는 동일하게 본다"
      ],
      "execution_count": 0,
      "outputs": [
        {
          "output_type": "stream",
          "text": [
            "{1, 2, 3, 4, 5, 6}\n"
          ],
          "name": "stdout"
        }
      ]
    },
    {
      "cell_type": "markdown",
      "metadata": {
        "colab_type": "text",
        "id": "EzVVHI-AZc3T"
      },
      "source": [
        "## Q12.\n",
        "> 파이썬은 다음처럼 동일한 값에 여러 개의 변수를 선언할 수 있다. 다음과 같이 a, b 변수를 선언한 후 a의 두 번째 요솟값을 변경하면 b 값은 어떻게 될까? 그리고 이런 결과가 오는 이유에 대해 설명해 보자.\n",
        "\n",
        ">> a = b = [1, 2, 3]  \n",
        ">> a[1] = 4  \n",
        ">> print(b)  \n"
      ]
    },
    {
      "cell_type": "code",
      "metadata": {
        "colab_type": "code",
        "id": "RvRIUGqAZc3W",
        "outputId": "80fcabe7-860b-4f44-ea35-0667241c16a7",
        "colab": {
          "base_uri": "https://localhost:8080/",
          "height": 34
        }
      },
      "source": [
        "# [Q12] Code & explanation\n",
        "a = b = [1, 2, 3]\n",
        "a[1] = 4\n",
        "print(b)\n",
        "\n",
        "#[1, 4, 3]이 출력된다. a와 b 변수는 모두 동일한 [1, 2, 3]이라는 리스트 객체를 가리키고 있기 때문이다."
      ],
      "execution_count": 0,
      "outputs": [
        {
          "output_type": "stream",
          "text": [
            "[1, 4, 3]\n"
          ],
          "name": "stdout"
        }
      ]
    },
    {
      "cell_type": "markdown",
      "metadata": {
        "id": "2ljBDShkbqZO",
        "colab_type": "text"
      },
      "source": [
        "## 코딩 연습 결과를 github에 올리기\n",
        "> 완성된 ipython 노트북 파일을 각자의 github에 올리시오.\n",
        "\n",
        "- github 계정 만들기 (계정이 없는 학생)\n",
        "    1. github에 sign up (Google gmail 계정을 이용해서 만드시오.)\n",
        "- github에 노트 올리기\n",
        "    2. github에 각자의 id로 repo를 만드시오. (한번 만들면 계속 재사용)\n",
        "    3. pynn repo에 연습결과 노트를 올리시오.\n",
        "        - 제출노트: ch2_exercises_id.ipynb\n"
      ]
    },
    {
      "cell_type": "code",
      "metadata": {
        "id": "OnCR-YNCc8B6",
        "colab_type": "code",
        "colab": {}
      },
      "source": [
        ""
      ],
      "execution_count": 0,
      "outputs": []
    }
  ]
}